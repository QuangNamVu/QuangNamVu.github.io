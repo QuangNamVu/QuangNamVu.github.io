{
 "cells": [
  {
   "cell_type": "code",
   "execution_count": 1,
   "metadata": {},
   "outputs": [],
   "source": [
    "import numpy as np\n",
    "import matplotlib.pyplot as plt\n",
    "from sklearn.decomposition import IncrementalPCA\n",
    "%matplotlib notebook"
   ]
  },
  {
   "cell_type": "code",
   "execution_count": 2,
   "metadata": {},
   "outputs": [],
   "source": [
    "X = np.array([[-1, 1],\n",
    "              [1, 2],\n",
    "              [0, -1],\n",
    "              [2, -1],\n",
    "              [2, 0],\n",
    "              [3, 1]\n",
    "             ])"
   ]
  },
  {
   "cell_type": "markdown",
   "metadata": {},
   "source": [
    "# PCA from sklearn"
   ]
  },
  {
   "cell_type": "code",
   "execution_count": 17,
   "metadata": {},
   "outputs": [],
   "source": [
    "ipca = IncrementalPCA(n_components=1)"
   ]
  },
  {
   "cell_type": "code",
   "execution_count": 18,
   "metadata": {},
   "outputs": [
    {
     "data": {
      "text/plain": [
       "IncrementalPCA(batch_size=None, copy=True, n_components=1, whiten=False)"
      ]
     },
     "execution_count": 18,
     "metadata": {},
     "output_type": "execute_result"
    }
   ],
   "source": [
    "ipca.fit(X)"
   ]
  },
  {
   "cell_type": "code",
   "execution_count": 19,
   "metadata": {},
   "outputs": [
    {
     "data": {
      "text/plain": [
       "array([[0.        ],\n",
       "       [1.89717781],\n",
       "       [1.18351864],\n",
       "       [3.17466834],\n",
       "       [3.08069645],\n",
       "       [3.9822994 ]])"
      ]
     },
     "execution_count": 19,
     "metadata": {},
     "output_type": "execute_result"
    }
   ],
   "source": [
    "x_trans = ipca.transform(X)\n",
    "x_trans -= x_trans[0]\n",
    "x_trans"
   ]
  },
  {
   "cell_type": "markdown",
   "metadata": {},
   "source": [
    "# Calculate PCA:\n",
    "Assume that $u_1$ is the normal vector: <br />\n",
    "The sample mean of data is $\\bar{x}=\\frac{1}{N}\\sum_{n=1}^Nx_n$ <br />\n",
    "The variance of projected data is given by:  <br />\n",
    "            $\\frac{1}{N}\\sum_{n=1}^N\\{u_1^Tx_n - u_1^T\\bar{x}\\}^2 = u_1^TSu_1$ <br />\n",
    "Where S is the data covariance matrix (Scatter matrix) define by: <br />\n",
    "            $S = \\frac{1}{N}\\sum_{n=1}^N(x_n - \\bar{x})(x_n - \\bar{x})^T$"
   ]
  },
  {
   "cell_type": "code",
   "execution_count": 6,
   "metadata": {},
   "outputs": [
    {
     "name": "stdout",
     "output_type": "stream",
     "text": [
      "Sample mean:\n",
      " [[1.16666667]\n",
      " [0.33333333]]:\n",
      "Sample variance (Scatter matrix):\n",
      " [[ 1.80555556 -0.05555556]\n",
      " [-0.05555556  1.22222222]]:\n"
     ]
    }
   ],
   "source": [
    "x_bar = np.mean(X, axis =0)\n",
    "x_bar = np.reshape(x_bar, newshape=[2,1])\n",
    "print(\"Sample mean:\\n {}:\".format(x_bar))\n",
    "\n",
    "N, M = X.shape\n",
    "S_ = np.zeros((M,M))\n",
    "\n",
    "for x in X:\n",
    "    x = np.reshape(x, newshape=[2,1])\n",
    "    S_ += np.dot((x-x_bar), (x-x_bar).T)\n",
    "\n",
    "S = S_/N\n",
    "print(\"Sample variance (Scatter matrix):\\n {}:\".format(S))"
   ]
  },
  {
   "cell_type": "markdown",
   "metadata": {},
   "source": [
    "## Maximizing variance by Larrange multiplier\n",
    "When maximizing variance $u_1^TSu_1$ w.r.t $u_1$. Clearly, this has to be constrained maximization to prevent $||u_1|| \\to \\infty$. The appropriate constraint comes from the normalization condition $u_1^Tu_1 = 1$"
   ]
  },
  {
   "cell_type": "code",
   "execution_count": 7,
   "metadata": {},
   "outputs": [
    {
     "name": "stdout",
     "output_type": "stream",
     "text": [
      "Eigenvector:\n",
      " [[ 0.99557485  0.09397189]\n",
      " [-0.09397189  0.99557485]]\n",
      "Eigenvalue:\n",
      " [1.81079942 1.21697836]\n"
     ]
    }
   ],
   "source": [
    "eig_vals, eig_vecs = np.linalg.eig(S)\n",
    "print(\"Eigenvector:\\n {}\".format(eig_vecs))\n",
    "print(\"Eigenvalue:\\n {}\".format(eig_vals))"
   ]
  },
  {
   "cell_type": "code",
   "execution_count": 8,
   "metadata": {},
   "outputs": [
    {
     "data": {
      "text/plain": [
       "array([0.        , 2.08512159, 0.80763106, 2.79878076, 2.89275266,\n",
       "       3.9822994 ])"
      ]
     },
     "execution_count": 8,
     "metadata": {},
     "output_type": "execute_result"
    }
   ],
   "source": [
    "u1 = eig_vecs[0]\n",
    "x_trans = np.dot(X, u1)\n",
    "x_trans -= x_trans[0]\n",
    "x_trans"
   ]
  },
  {
   "cell_type": "code",
   "execution_count": 10,
   "metadata": {},
   "outputs": [
    {
     "data": {
      "text/plain": [
       "array([ 0.        ,  0.80763106, -2.08512159, -2.27306538, -1.27749053,\n",
       "       -0.37588757])"
      ]
     },
     "execution_count": 10,
     "metadata": {},
     "output_type": "execute_result"
    }
   ],
   "source": [
    "u2 = eig_vecs[1]\n",
    "x_trans = np.dot(X, u2)\n",
    "\n",
    "# give bias\n",
    "x_trans -= x_trans[0]\n",
    "x_trans"
   ]
  }
 ],
 "metadata": {
  "kernelspec": {
   "display_name": "Python 3",
   "language": "python",
   "name": "python3"
  },
  "language_info": {
   "codemirror_mode": {
    "name": "ipython",
    "version": 3
   },
   "file_extension": ".py",
   "mimetype": "text/x-python",
   "name": "python",
   "nbconvert_exporter": "python",
   "pygments_lexer": "ipython3",
   "version": "3.6.8"
  }
 },
 "nbformat": 4,
 "nbformat_minor": 2
}
