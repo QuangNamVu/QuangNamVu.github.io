{
 "cells": [
  {
   "cell_type": "code",
   "execution_count": 1,
   "metadata": {},
   "outputs": [],
   "source": [
    "import numpy as np"
   ]
  },
  {
   "cell_type": "code",
   "execution_count": 2,
   "metadata": {},
   "outputs": [],
   "source": [
    "m = np.array([\n",
    "#t+1 |Party|TV|Pub|Study\n",
    "    [.05, .7, .05, .2],   # Party\n",
    "    [.1,  .4,  .3, .2],   # TV\n",
    "    [.1,  .6, .05, .25],  # Pub\n",
    "    [.25, .3,  .4, .05],  # Study\n",
    "                          #  t\n",
    "])"
   ]
  },
  {
   "cell_type": "code",
   "execution_count": 3,
   "metadata": {},
   "outputs": [],
   "source": [
    "o = np.array([\n",
    "# |Tired|Hung|Scared|Fine\n",
    "    [.3,  .4, .2, .1],   # Party\n",
    "    [.2,  .1, .2, .5],   # TV\n",
    "    [.4,  .2, .1, .3],   # Pub\n",
    "    [.3, .05, .3, .35],  # Study\n",
    "])"
   ]
  },
  {
   "cell_type": "code",
   "execution_count": 4,
   "metadata": {},
   "outputs": [],
   "source": [
    "# init state    |Tired| Hung | Scared |Fine\n",
    "pi_start = np.array([.25, .25, .25, .25])\n",
    "\n",
    "dict_names_trans_mat = {\"Party\": 0, \"TV\": 1, \"Pub\": 2, \"Study\": 3}\n",
    "\n",
    "dict_feel = {\"Tired\": 0, \"Hung\": 1, \"Scared\": 2, \"Fine\": 3}"
   ]
  },
  {
   "cell_type": "markdown",
   "metadata": {},
   "source": [
    "# Q1: find probability of sequence:\n",
    "Tired -> Hung -> Scared -> Fine"
   ]
  },
  {
   "cell_type": "code",
   "execution_count": 5,
   "metadata": {},
   "outputs": [
    {
     "name": "stdout",
     "output_type": "stream",
     "text": [
      "1, P(Par, TV, Pub, Tired, Scared, Fine)\n",
      "0.001575\n"
     ]
    }
   ],
   "source": [
    "def prop_state_feel(lst_state, lst_feel):\n",
    "    # p0 = start [[Par]; Par -> TV; TV ->  Pub\n",
    "    # p0 *= Tired, Scared, Fine\n",
    "    start_state = dict_names_trans_mat[lst_state[0]]  # start = Party => 0\n",
    "    start_feel = dict_feel[lst_feel[0]]  # Tired => 0\n",
    "    p = pi_start[start_state] * o[start_state][start_feel]\n",
    "\n",
    "    for current_idx in range(1, len(lst_state)):\n",
    "        prev_state_idx = dict_names_trans_mat[lst_state[current_idx - 1]]\n",
    "        current_state_idx = dict_names_trans_mat[lst_state[current_idx]]\n",
    "        current_feel_idx = dict_feel[lst_feel[current_idx]]\n",
    "\n",
    "        p *= m[prev_state_idx][current_state_idx]\n",
    "        p *= o[prev_state_idx][current_feel_idx]\n",
    "\n",
    "    return p\n",
    "\n",
    "\n",
    "lst_state = [\"Party\", \"TV\", \"Pub\"]\n",
    "lst_feel = [\"Tired\", \"Scared\", \"Fine\"]\n",
    "\n",
    "p_1 = prop_state_feel(lst_state, lst_feel)\n",
    "print(\"1, P(Par, TV, Pub, Tired, Scared, Fine)\")\n",
    "print(p_1) # 2.625*10^(-6)"
   ]
  },
  {
   "cell_type": "markdown",
   "metadata": {},
   "source": [
    "# Q2: find probability of sequence:\n",
    "Hung -> Scared -> Tired"
   ]
  },
  {
   "cell_type": "code",
   "execution_count": 6,
   "metadata": {},
   "outputs": [
    {
     "name": "stdout",
     "output_type": "stream",
     "text": [
      "2, P(Hung , Scared, Tired) \n",
      " 0.01419171875\n"
     ]
    }
   ],
   "source": [
    "def prop_hidden_state_feel(lst_obs):\n",
    "    # s1 = start_state .* o[Hung]\n",
    "    n_layer = len(lst_feel)\n",
    "    s = np.zeros(shape=(len(pi_start), n_layer))  # shape = 4x3\n",
    "    o_start_idx = dict_feel[lst_obs[0]]\n",
    "    s[:, 0] = np.multiply(pi_start, o[:, o_start_idx])\n",
    "\n",
    "    # s2 = M'.dot(s1) .* o[Scared] and so on\n",
    "    for ilayer in range(1, n_layer):\n",
    "        o_start_idx = dict_feel[lst_feel[ilayer]]\n",
    "        s[:, ilayer] = m.transpose().dot(s[:, ilayer - 1])\n",
    "        s[:, ilayer] = np.multiply(s[:, ilayer], o[:, o_start_idx])\n",
    "\n",
    "    return sum(s[:, n_layer - 1])\n",
    "\n",
    "\n",
    "p_2 = prop_hidden_state_feel([\"Hung\", \"Scared\", \"Tired\"])\n",
    "print(\"2, P(Hung , Scared, Tired) \\n\",p_2)"
   ]
  },
  {
   "cell_type": "markdown",
   "metadata": {},
   "source": [
    "# Q3: find state in sequence observes \n",
    "HungOver -> Scared -> Tired"
   ]
  },
  {
   "cell_type": "code",
   "execution_count": 7,
   "metadata": {},
   "outputs": [],
   "source": [
    "# Logarit table to avoid vanishing\n",
    "log_m = np.log2(m)\n",
    "\n",
    "log_o = np.log2(o)\n",
    "\n",
    "log_pi_start = np.log2(pi_start)"
   ]
  },
  {
   "cell_type": "code",
   "execution_count": 8,
   "metadata": {},
   "outputs": [],
   "source": [
    "def viterbi(lst_obs, trace_array=[]):\n",
    "    n_cols = len(lst_feel)\n",
    "    n_rows = len(pi_start)\n",
    "\n",
    "    dynamic_prog_table = np.zeros(shape=(n_rows, n_cols))\n",
    "\n",
    "    o_start_idx = dict_feel[lst_obs[0]]\n",
    "\n",
    "    dynamic_prog_table[:, 0] = log_pi_start + log_o[:, o_start_idx]\n",
    "\n",
    "    for icol in range(1, n_cols):\n",
    "        # get max row from previous\n",
    "\n",
    "        max_idx_prev_row = np.argmax(dynamic_prog_table[:, icol - 1])\n",
    "\n",
    "        # trace\n",
    "        trace_array.append(\n",
    "            list(dict_names_trans_mat.keys())[list(dict_names_trans_mat.values()).index(max_idx_prev_row)])\n",
    "\n",
    "        p_prev = dynamic_prog_table[max_idx_prev_row, icol - 1]\n",
    "        o_idx = dict_feel[lst_obs[icol]]\n",
    "        dynamic_prog_table[:, icol] = p_prev + log_m[max_idx_prev_row, :] + log_o[:, o_idx]\n",
    "\n",
    "    max_idx_last_col = np.argmax(dynamic_prog_table[:, n_cols - 1])\n",
    "    trace_array.append(list(dict_names_trans_mat.keys())[list(dict_names_trans_mat.values()).index(max_idx_last_col)])\n",
    "\n",
    "    return (dynamic_prog_table, trace_array)"
   ]
  },
  {
   "cell_type": "code",
   "execution_count": 9,
   "metadata": {},
   "outputs": [
    {
     "name": "stdout",
     "output_type": "stream",
     "text": [
      "viterbi table dynamic program \n",
      " [[ -3.32192809  -9.96578428 -11.21732305]\n",
      " [ -5.32192809  -6.15842936  -9.80228555]\n",
      " [ -4.32192809 -10.96578428  -9.21732305]\n",
      " [ -6.32192809  -7.38082178 -10.21732305]]\n",
      "find state in sequence observes HungOver, Scared , Tired \n",
      " ['Party', 'TV', 'Pub']\n"
     ]
    }
   ],
   "source": [
    "dynamic_prog_table, trace_array = viterbi([\"Hung\", \"Scared\", \"Tired\"])\n",
    "print(\"viterbi table dynamic program \\n\", dynamic_prog_table)\n",
    "\n",
    "print(\"find state in sequence observes HungOver, Scared , Tired \\n\", trace_array)"
   ]
  }
 ],
 "metadata": {
  "kernelspec": {
   "display_name": "Python 3",
   "language": "python",
   "name": "python3"
  },
  "language_info": {
   "codemirror_mode": {
    "name": "ipython",
    "version": 3
   },
   "file_extension": ".py",
   "mimetype": "text/x-python",
   "name": "python",
   "nbconvert_exporter": "python",
   "pygments_lexer": "ipython3",
   "version": "3.6.8"
  }
 },
 "nbformat": 4,
 "nbformat_minor": 2
}
